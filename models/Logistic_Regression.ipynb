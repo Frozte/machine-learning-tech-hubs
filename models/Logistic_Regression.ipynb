{
 "cells": [
  {
   "cell_type": "code",
   "execution_count": 1,
   "metadata": {},
   "outputs": [],
   "source": [
    "# Dependencies\n",
    "import matplotlib.pyplot as plt\n",
    "%matplotlib inline\n",
    "import numpy as np\n",
    "import pandas as pd\n",
    "from sklearn.cluster import KMeans"
   ]
  },
  {
   "cell_type": "code",
   "execution_count": 2,
   "metadata": {
    "scrolled": true
   },
   "outputs": [
    {
     "output_type": "execute_result",
     "data": {
      "text/plain": [
       "       zipcode  AVERAGE  PRICE  Income per capita  Median Age Male  \\\n",
       "0          602     114105.2500             9277.0             41.9   \n",
       "1          606      59377.7500             5943.0             43.2   \n",
       "2          610     108219.5833            10220.0             40.4   \n",
       "3          617     101022.0000             9122.0             39.2   \n",
       "4          693     330761.5000            10536.0             39.2   \n",
       "...        ...             ...                ...              ...   \n",
       "29423    99827     211487.0000            33387.0             45.2   \n",
       "29424    99833     254642.9167            33227.0             39.3   \n",
       "29425    99835     402391.3333            38423.0             37.2   \n",
       "29426    99901     294448.8333            34886.0             39.4   \n",
       "29427    99929     215225.5833            31489.0             51.6   \n",
       "\n",
       "       Median Age Female  Bachelor's degree > 25  Public transportation  \\\n",
       "0                   42.8                0.134690               0.002796   \n",
       "1                   43.4                0.068866               0.000000   \n",
       "2                   44.2                0.130349               0.002741   \n",
       "3                   41.0                0.157224               0.005154   \n",
       "4                   41.9                0.148064               0.006750   \n",
       "...                  ...                     ...                    ...   \n",
       "29423               45.8                0.229525               0.002308   \n",
       "29424               42.7                0.219672               0.009211   \n",
       "29425               40.5                0.204494               0.010178   \n",
       "29426               39.9                0.170142               0.035648   \n",
       "29427               48.3                0.140267               0.006635   \n",
       "\n",
       "       clusters  \n",
       "0             0  \n",
       "1             0  \n",
       "2             0  \n",
       "3             0  \n",
       "4             0  \n",
       "...         ...  \n",
       "29423         0  \n",
       "29424         0  \n",
       "29425         0  \n",
       "29426         0  \n",
       "29427         0  \n",
       "\n",
       "[29428 rows x 8 columns]"
      ],
      "text/html": "<div>\n<style scoped>\n    .dataframe tbody tr th:only-of-type {\n        vertical-align: middle;\n    }\n\n    .dataframe tbody tr th {\n        vertical-align: top;\n    }\n\n    .dataframe thead th {\n        text-align: right;\n    }\n</style>\n<table border=\"1\" class=\"dataframe\">\n  <thead>\n    <tr style=\"text-align: right;\">\n      <th></th>\n      <th>zipcode</th>\n      <th>AVERAGE  PRICE</th>\n      <th>Income per capita</th>\n      <th>Median Age Male</th>\n      <th>Median Age Female</th>\n      <th>Bachelor's degree &gt; 25</th>\n      <th>Public transportation</th>\n      <th>clusters</th>\n    </tr>\n  </thead>\n  <tbody>\n    <tr>\n      <th>0</th>\n      <td>602</td>\n      <td>114105.2500</td>\n      <td>9277.0</td>\n      <td>41.9</td>\n      <td>42.8</td>\n      <td>0.134690</td>\n      <td>0.002796</td>\n      <td>0</td>\n    </tr>\n    <tr>\n      <th>1</th>\n      <td>606</td>\n      <td>59377.7500</td>\n      <td>5943.0</td>\n      <td>43.2</td>\n      <td>43.4</td>\n      <td>0.068866</td>\n      <td>0.000000</td>\n      <td>0</td>\n    </tr>\n    <tr>\n      <th>2</th>\n      <td>610</td>\n      <td>108219.5833</td>\n      <td>10220.0</td>\n      <td>40.4</td>\n      <td>44.2</td>\n      <td>0.130349</td>\n      <td>0.002741</td>\n      <td>0</td>\n    </tr>\n    <tr>\n      <th>3</th>\n      <td>617</td>\n      <td>101022.0000</td>\n      <td>9122.0</td>\n      <td>39.2</td>\n      <td>41.0</td>\n      <td>0.157224</td>\n      <td>0.005154</td>\n      <td>0</td>\n    </tr>\n    <tr>\n      <th>4</th>\n      <td>693</td>\n      <td>330761.5000</td>\n      <td>10536.0</td>\n      <td>39.2</td>\n      <td>41.9</td>\n      <td>0.148064</td>\n      <td>0.006750</td>\n      <td>0</td>\n    </tr>\n    <tr>\n      <th>...</th>\n      <td>...</td>\n      <td>...</td>\n      <td>...</td>\n      <td>...</td>\n      <td>...</td>\n      <td>...</td>\n      <td>...</td>\n      <td>...</td>\n    </tr>\n    <tr>\n      <th>29423</th>\n      <td>99827</td>\n      <td>211487.0000</td>\n      <td>33387.0</td>\n      <td>45.2</td>\n      <td>45.8</td>\n      <td>0.229525</td>\n      <td>0.002308</td>\n      <td>0</td>\n    </tr>\n    <tr>\n      <th>29424</th>\n      <td>99833</td>\n      <td>254642.9167</td>\n      <td>33227.0</td>\n      <td>39.3</td>\n      <td>42.7</td>\n      <td>0.219672</td>\n      <td>0.009211</td>\n      <td>0</td>\n    </tr>\n    <tr>\n      <th>29425</th>\n      <td>99835</td>\n      <td>402391.3333</td>\n      <td>38423.0</td>\n      <td>37.2</td>\n      <td>40.5</td>\n      <td>0.204494</td>\n      <td>0.010178</td>\n      <td>0</td>\n    </tr>\n    <tr>\n      <th>29426</th>\n      <td>99901</td>\n      <td>294448.8333</td>\n      <td>34886.0</td>\n      <td>39.4</td>\n      <td>39.9</td>\n      <td>0.170142</td>\n      <td>0.035648</td>\n      <td>0</td>\n    </tr>\n    <tr>\n      <th>29427</th>\n      <td>99929</td>\n      <td>215225.5833</td>\n      <td>31489.0</td>\n      <td>51.6</td>\n      <td>48.3</td>\n      <td>0.140267</td>\n      <td>0.006635</td>\n      <td>0</td>\n    </tr>\n  </tbody>\n</table>\n<p>29428 rows × 8 columns</p>\n</div>"
     },
     "metadata": {},
     "execution_count": 2
    }
   ],
   "source": [
    "# Read the data\n",
    "data = pd.read_csv(\"data/cluster_predict.csv\")\n",
    "data"
   ]
  },
  {
   "cell_type": "code",
   "execution_count": 3,
   "metadata": {},
   "outputs": [],
   "source": [
    "# Define variables we based predictions on\n",
    "x = data[['AVERAGE  PRICE','Income per capita', 'Median Age Male', 'Median Age Female',\n",
    "\n",
    "       \"Bachelor's degree > 25\", 'Public transportation']]"
   ]
  },
  {
   "cell_type": "code",
   "execution_count": 4,
   "metadata": {},
   "outputs": [],
   "source": [
    "# Define prediction variable - wat we are trying to predict\n",
    "y = data['clusters']"
   ]
  },
  {
   "cell_type": "code",
   "execution_count": 5,
   "metadata": {},
   "outputs": [],
   "source": [
    "# Split test and training data sets\n",
    "from sklearn.model_selection import train_test_split\n",
    "\n",
    "x_train, x_test, y_train, y_test = train_test_split(x, y, test_size = 0.3,random_state=1)"
   ]
  },
  {
   "cell_type": "code",
   "execution_count": 6,
   "metadata": {},
   "outputs": [
    {
     "output_type": "execute_result",
     "data": {
      "text/plain": [
       "LogisticRegression()"
      ]
     },
     "metadata": {},
     "execution_count": 6
    }
   ],
   "source": [
    "# Build model\n",
    "from sklearn.linear_model import LogisticRegression\n",
    "classifier = LogisticRegression()\n",
    "classifier"
   ]
  },
  {
   "cell_type": "code",
   "execution_count": 7,
   "metadata": {},
   "outputs": [
    {
     "output_type": "execute_result",
     "data": {
      "text/plain": [
       "LogisticRegression()"
      ]
     },
     "metadata": {},
     "execution_count": 7
    }
   ],
   "source": [
    "# Fit model using training data\n",
    "classifier.fit(x_train, y_train)"
   ]
  },
  {
   "cell_type": "code",
   "execution_count": 8,
   "metadata": {},
   "outputs": [
    {
     "output_type": "stream",
     "name": "stdout",
     "text": [
      "Training Data Score: 0.9487353755036653\nTesting Data Score: 0.9493713897383622\n"
     ]
    }
   ],
   "source": [
    "# Validate the model using the test data\n",
    "print(f\"Training Data Score: {classifier.score(x_train, y_train)}\")\n",
    "print(f\"Testing Data Score: {classifier.score(x_test, y_test)}\")"
   ]
  },
  {
   "cell_type": "code",
   "execution_count": 9,
   "metadata": {},
   "outputs": [
    {
     "output_type": "execute_result",
     "data": {
      "text/plain": [
       "       Prediction  Actual\n",
       "11779           0       0\n",
       "2774            0       0\n",
       "2182            0       4\n",
       "8846            4       0\n",
       "28642           0       0\n",
       "...           ...     ...\n",
       "3197            0       0\n",
       "6950            0       0\n",
       "18049           0       0\n",
       "14677           0       0\n",
       "24714           0       0\n",
       "\n",
       "[8829 rows x 2 columns]"
      ],
      "text/html": "<div>\n<style scoped>\n    .dataframe tbody tr th:only-of-type {\n        vertical-align: middle;\n    }\n\n    .dataframe tbody tr th {\n        vertical-align: top;\n    }\n\n    .dataframe thead th {\n        text-align: right;\n    }\n</style>\n<table border=\"1\" class=\"dataframe\">\n  <thead>\n    <tr style=\"text-align: right;\">\n      <th></th>\n      <th>Prediction</th>\n      <th>Actual</th>\n    </tr>\n  </thead>\n  <tbody>\n    <tr>\n      <th>11779</th>\n      <td>0</td>\n      <td>0</td>\n    </tr>\n    <tr>\n      <th>2774</th>\n      <td>0</td>\n      <td>0</td>\n    </tr>\n    <tr>\n      <th>2182</th>\n      <td>0</td>\n      <td>4</td>\n    </tr>\n    <tr>\n      <th>8846</th>\n      <td>4</td>\n      <td>0</td>\n    </tr>\n    <tr>\n      <th>28642</th>\n      <td>0</td>\n      <td>0</td>\n    </tr>\n    <tr>\n      <th>...</th>\n      <td>...</td>\n      <td>...</td>\n    </tr>\n    <tr>\n      <th>3197</th>\n      <td>0</td>\n      <td>0</td>\n    </tr>\n    <tr>\n      <th>6950</th>\n      <td>0</td>\n      <td>0</td>\n    </tr>\n    <tr>\n      <th>18049</th>\n      <td>0</td>\n      <td>0</td>\n    </tr>\n    <tr>\n      <th>14677</th>\n      <td>0</td>\n      <td>0</td>\n    </tr>\n    <tr>\n      <th>24714</th>\n      <td>0</td>\n      <td>0</td>\n    </tr>\n  </tbody>\n</table>\n<p>8829 rows × 2 columns</p>\n</div>"
     },
     "metadata": {},
     "execution_count": 9
    }
   ],
   "source": [
    "predictions = classifier.predict(x_test)\n",
    "pd.DataFrame({\"Prediction\": predictions, \"Actual\": y_test})"
   ]
  },
  {
   "cell_type": "code",
   "execution_count": 11,
   "metadata": {},
   "outputs": [],
   "source": [
    "import pickle\n",
    "pickle.dump(classifier, open('model.pickle', 'wb'))"
   ]
  },
  {
   "cell_type": "code",
   "execution_count": null,
   "metadata": {},
   "outputs": [],
   "source": []
  }
 ],
 "metadata": {
  "kernelspec": {
   "display_name": "Python 3",
   "language": "python",
   "name": "python3"
  },
  "language_info": {
   "codemirror_mode": {
    "name": "ipython",
    "version": 3
   },
   "file_extension": ".py",
   "mimetype": "text/x-python",
   "name": "python",
   "nbconvert_exporter": "python",
   "pygments_lexer": "ipython3",
   "version": "3.7.7-final"
  }
 },
 "nbformat": 4,
 "nbformat_minor": 2
}