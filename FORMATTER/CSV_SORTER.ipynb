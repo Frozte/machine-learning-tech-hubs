{
 "cells": [
  {
   "cell_type": "code",
   "execution_count": 2,
   "metadata": {},
   "outputs": [],
   "source": [
    "# Dependencies\n",
    "import pandas as pd\n",
    "import geopandas as gpd\n",
    "import json\n",
    "import csv"
   ]
  },
  {
   "cell_type": "code",
   "execution_count": 6,
   "metadata": {},
   "outputs": [],
   "source": [
    "#Filepaths\n",
    "RE = \"ZIP.csv\"\n",
    "CENSUS = \"CENSUS.CSV\"\n"
   ]
  },
  {
   "cell_type": "code",
   "execution_count": 21,
   "metadata": {},
   "outputs": [],
   "source": [
    "#REM to DF\n",
    "df_RE=pd.read_csv(RE, encoding=\"ISO-8859-1\")\n",
    "df_CEN=pd.read_csv(CENSUS, encoding=\"ISO-8859-1\")"
   ]
  },
  {
   "cell_type": "code",
   "execution_count": 29,
   "metadata": {},
   "outputs": [
    {
     "output_type": "execute_result",
     "data": {
      "text/plain": [
       "       zipcode RegionType StateName        City           Metro  \\\n",
       "0          602        Zip        AL      Auburn  Auburn-Opelika   \n",
       "1          606        Zip        MO      Neosho          Joplin   \n",
       "2          610        Zip        KY      Anasco             NaN   \n",
       "3          617        Zip        AL      Imbery      Enterprise   \n",
       "4          693        Zip        PA  Greensburg      Pittsburgh   \n",
       "...        ...        ...       ...         ...             ...   \n",
       "29733    99827        Zip        AK      Haines             NaN   \n",
       "29734    99833        Zip        AK  Petersburg             NaN   \n",
       "29735    99835        Zip        AK       Sitka             NaN   \n",
       "29736    99901        Zip        AK   Ketchikan       Ketchikan   \n",
       "29737    99929        Zip        AK    Wrangell             NaN   \n",
       "\n",
       "                      CountyName  AVERAGE  PRICE  Income per capita  \\\n",
       "0                     Lee County     114105.2500             9277.0   \n",
       "1                  Newton County      59377.7500             5943.0   \n",
       "2                    Pike County     108219.5833            10220.0   \n",
       "3                  Coffee County     101022.0000             9122.0   \n",
       "4            Westmoreland County     330761.5000            10536.0   \n",
       "...                          ...             ...                ...   \n",
       "29733             Haines Borough     211487.0000            33387.0   \n",
       "29734         Petersburg Borough     254642.9167            33227.0   \n",
       "29735              Sitka Borough     402391.3333            38423.0   \n",
       "29736  Ketchikan Gateway Borough     294448.8333            34886.0   \n",
       "29737           Wrangell Borough     215225.5833            31489.0   \n",
       "\n",
       "       Median Age Male  Median Age Male.1  Bachelor's degree > 25  \\\n",
       "0                 41.9               42.8                0.134690   \n",
       "1                 43.2               43.4                0.068866   \n",
       "2                 40.4               44.2                0.130349   \n",
       "3                 39.2               41.0                0.157224   \n",
       "4                 39.2               41.9                0.148064   \n",
       "...                ...                ...                     ...   \n",
       "29733             45.2               45.8                0.229525   \n",
       "29734             39.3               42.7                0.219672   \n",
       "29735             37.2               40.5                0.204494   \n",
       "29736             39.4               39.9                0.170142   \n",
       "29737             51.6               48.3                0.140267   \n",
       "\n",
       "       Public transportation  \n",
       "0                   0.002796  \n",
       "1                   0.000000  \n",
       "2                   0.002741  \n",
       "3                   0.005154  \n",
       "4                   0.006750  \n",
       "...                      ...  \n",
       "29733               0.002308  \n",
       "29734               0.009211  \n",
       "29735               0.010178  \n",
       "29736               0.035648  \n",
       "29737               0.006635  \n",
       "\n",
       "[29738 rows x 12 columns]"
      ],
      "text/html": "<div>\n<style scoped>\n    .dataframe tbody tr th:only-of-type {\n        vertical-align: middle;\n    }\n\n    .dataframe tbody tr th {\n        vertical-align: top;\n    }\n\n    .dataframe thead th {\n        text-align: right;\n    }\n</style>\n<table border=\"1\" class=\"dataframe\">\n  <thead>\n    <tr style=\"text-align: right;\">\n      <th></th>\n      <th>zipcode</th>\n      <th>RegionType</th>\n      <th>StateName</th>\n      <th>City</th>\n      <th>Metro</th>\n      <th>CountyName</th>\n      <th>AVERAGE  PRICE</th>\n      <th>Income per capita</th>\n      <th>Median Age Male</th>\n      <th>Median Age Male.1</th>\n      <th>Bachelor's degree &gt; 25</th>\n      <th>Public transportation</th>\n    </tr>\n  </thead>\n  <tbody>\n    <tr>\n      <th>0</th>\n      <td>602</td>\n      <td>Zip</td>\n      <td>AL</td>\n      <td>Auburn</td>\n      <td>Auburn-Opelika</td>\n      <td>Lee County</td>\n      <td>114105.2500</td>\n      <td>9277.0</td>\n      <td>41.9</td>\n      <td>42.8</td>\n      <td>0.134690</td>\n      <td>0.002796</td>\n    </tr>\n    <tr>\n      <th>1</th>\n      <td>606</td>\n      <td>Zip</td>\n      <td>MO</td>\n      <td>Neosho</td>\n      <td>Joplin</td>\n      <td>Newton County</td>\n      <td>59377.7500</td>\n      <td>5943.0</td>\n      <td>43.2</td>\n      <td>43.4</td>\n      <td>0.068866</td>\n      <td>0.000000</td>\n    </tr>\n    <tr>\n      <th>2</th>\n      <td>610</td>\n      <td>Zip</td>\n      <td>KY</td>\n      <td>Anasco</td>\n      <td>NaN</td>\n      <td>Pike County</td>\n      <td>108219.5833</td>\n      <td>10220.0</td>\n      <td>40.4</td>\n      <td>44.2</td>\n      <td>0.130349</td>\n      <td>0.002741</td>\n    </tr>\n    <tr>\n      <th>3</th>\n      <td>617</td>\n      <td>Zip</td>\n      <td>AL</td>\n      <td>Imbery</td>\n      <td>Enterprise</td>\n      <td>Coffee County</td>\n      <td>101022.0000</td>\n      <td>9122.0</td>\n      <td>39.2</td>\n      <td>41.0</td>\n      <td>0.157224</td>\n      <td>0.005154</td>\n    </tr>\n    <tr>\n      <th>4</th>\n      <td>693</td>\n      <td>Zip</td>\n      <td>PA</td>\n      <td>Greensburg</td>\n      <td>Pittsburgh</td>\n      <td>Westmoreland County</td>\n      <td>330761.5000</td>\n      <td>10536.0</td>\n      <td>39.2</td>\n      <td>41.9</td>\n      <td>0.148064</td>\n      <td>0.006750</td>\n    </tr>\n    <tr>\n      <th>...</th>\n      <td>...</td>\n      <td>...</td>\n      <td>...</td>\n      <td>...</td>\n      <td>...</td>\n      <td>...</td>\n      <td>...</td>\n      <td>...</td>\n      <td>...</td>\n      <td>...</td>\n      <td>...</td>\n      <td>...</td>\n    </tr>\n    <tr>\n      <th>29733</th>\n      <td>99827</td>\n      <td>Zip</td>\n      <td>AK</td>\n      <td>Haines</td>\n      <td>NaN</td>\n      <td>Haines Borough</td>\n      <td>211487.0000</td>\n      <td>33387.0</td>\n      <td>45.2</td>\n      <td>45.8</td>\n      <td>0.229525</td>\n      <td>0.002308</td>\n    </tr>\n    <tr>\n      <th>29734</th>\n      <td>99833</td>\n      <td>Zip</td>\n      <td>AK</td>\n      <td>Petersburg</td>\n      <td>NaN</td>\n      <td>Petersburg Borough</td>\n      <td>254642.9167</td>\n      <td>33227.0</td>\n      <td>39.3</td>\n      <td>42.7</td>\n      <td>0.219672</td>\n      <td>0.009211</td>\n    </tr>\n    <tr>\n      <th>29735</th>\n      <td>99835</td>\n      <td>Zip</td>\n      <td>AK</td>\n      <td>Sitka</td>\n      <td>NaN</td>\n      <td>Sitka Borough</td>\n      <td>402391.3333</td>\n      <td>38423.0</td>\n      <td>37.2</td>\n      <td>40.5</td>\n      <td>0.204494</td>\n      <td>0.010178</td>\n    </tr>\n    <tr>\n      <th>29736</th>\n      <td>99901</td>\n      <td>Zip</td>\n      <td>AK</td>\n      <td>Ketchikan</td>\n      <td>Ketchikan</td>\n      <td>Ketchikan Gateway Borough</td>\n      <td>294448.8333</td>\n      <td>34886.0</td>\n      <td>39.4</td>\n      <td>39.9</td>\n      <td>0.170142</td>\n      <td>0.035648</td>\n    </tr>\n    <tr>\n      <th>29737</th>\n      <td>99929</td>\n      <td>Zip</td>\n      <td>AK</td>\n      <td>Wrangell</td>\n      <td>NaN</td>\n      <td>Wrangell Borough</td>\n      <td>215225.5833</td>\n      <td>31489.0</td>\n      <td>51.6</td>\n      <td>48.3</td>\n      <td>0.140267</td>\n      <td>0.006635</td>\n    </tr>\n  </tbody>\n</table>\n<p>29738 rows × 12 columns</p>\n</div>"
     },
     "metadata": {},
     "execution_count": 29
    }
   ],
   "source": [
    "df_MM=pd.read_csv(\"Merge_Master.csv\", encoding=\"ISO-8859-1\")\n",
    "df_MM"
   ]
  },
  {
   "cell_type": "code",
   "execution_count": 31,
   "metadata": {},
   "outputs": [],
   "source": [
    "df_MMM = df_MM.rename(columns={'Median Age Male.1':\"Median Age Female\"})\n",
    "df_MMM\n",
    "df_MMM.to_csv('Master.csv')\n",
    "\n"
   ]
  },
  {
   "cell_type": "code",
   "execution_count": 33,
   "metadata": {},
   "outputs": [],
   "source": [
    "df_loc = df_MMM.loc[df_MMM['City'] == 'New York']\n",
    "df_loc.to_csv('NYC.csv')"
   ]
  },
  {
   "cell_type": "code",
   "execution_count": 22,
   "metadata": {},
   "outputs": [
    {
     "output_type": "execute_result",
     "data": {
      "text/plain": [
       "       zipcode  Income per capita  Median Age Male  Median Age Male.1  \\\n",
       "0          601             6999.0             39.5               41.3   \n",
       "1          602             9277.0             41.9               42.8   \n",
       "2          603            11307.0             39.1               42.9   \n",
       "3          606             5943.0             43.2               43.4   \n",
       "4          610            10220.0             40.4               44.2   \n",
       "...        ...                ...              ...                ...   \n",
       "32804    99923                NaN     -666666666.0       -666666666.0   \n",
       "32772    99925            25840.0             42.0               45.1   \n",
       "32773    99926            22453.0             34.6               34.3   \n",
       "32774    99927            13658.0     -666666666.0       -666666666.0   \n",
       "32775    99929            31489.0             51.6               48.3   \n",
       "\n",
       "       Bachelor's degree > 25  Median Home Value  Public transportation  \n",
       "0                    0.150448              86200               0.000000  \n",
       "1                    0.134690              86300               0.002796  \n",
       "2                    0.171792             122400               0.002939  \n",
       "3                    0.068866              91600               0.000000  \n",
       "4                    0.130349              88600               0.002741  \n",
       "...                       ...                ...                    ...  \n",
       "32804                1.000000         -666666666               0.000000  \n",
       "32772                0.082426             174500               0.000000  \n",
       "32773                0.065751             143100               0.011472  \n",
       "32774                0.263158             272500               0.000000  \n",
       "32775                0.140267             212600               0.006635  \n",
       "\n",
       "[33120 rows x 7 columns]"
      ],
      "text/html": "<div>\n<style scoped>\n    .dataframe tbody tr th:only-of-type {\n        vertical-align: middle;\n    }\n\n    .dataframe tbody tr th {\n        vertical-align: top;\n    }\n\n    .dataframe thead th {\n        text-align: right;\n    }\n</style>\n<table border=\"1\" class=\"dataframe\">\n  <thead>\n    <tr style=\"text-align: right;\">\n      <th></th>\n      <th>zipcode</th>\n      <th>Income per capita</th>\n      <th>Median Age Male</th>\n      <th>Median Age Male.1</th>\n      <th>Bachelor's degree &gt; 25</th>\n      <th>Median Home Value</th>\n      <th>Public transportation</th>\n    </tr>\n  </thead>\n  <tbody>\n    <tr>\n      <th>0</th>\n      <td>601</td>\n      <td>6999.0</td>\n      <td>39.5</td>\n      <td>41.3</td>\n      <td>0.150448</td>\n      <td>86200</td>\n      <td>0.000000</td>\n    </tr>\n    <tr>\n      <th>1</th>\n      <td>602</td>\n      <td>9277.0</td>\n      <td>41.9</td>\n      <td>42.8</td>\n      <td>0.134690</td>\n      <td>86300</td>\n      <td>0.002796</td>\n    </tr>\n    <tr>\n      <th>2</th>\n      <td>603</td>\n      <td>11307.0</td>\n      <td>39.1</td>\n      <td>42.9</td>\n      <td>0.171792</td>\n      <td>122400</td>\n      <td>0.002939</td>\n    </tr>\n    <tr>\n      <th>3</th>\n      <td>606</td>\n      <td>5943.0</td>\n      <td>43.2</td>\n      <td>43.4</td>\n      <td>0.068866</td>\n      <td>91600</td>\n      <td>0.000000</td>\n    </tr>\n    <tr>\n      <th>4</th>\n      <td>610</td>\n      <td>10220.0</td>\n      <td>40.4</td>\n      <td>44.2</td>\n      <td>0.130349</td>\n      <td>88600</td>\n      <td>0.002741</td>\n    </tr>\n    <tr>\n      <th>...</th>\n      <td>...</td>\n      <td>...</td>\n      <td>...</td>\n      <td>...</td>\n      <td>...</td>\n      <td>...</td>\n      <td>...</td>\n    </tr>\n    <tr>\n      <th>32804</th>\n      <td>99923</td>\n      <td>NaN</td>\n      <td>-666666666.0</td>\n      <td>-666666666.0</td>\n      <td>1.000000</td>\n      <td>-666666666</td>\n      <td>0.000000</td>\n    </tr>\n    <tr>\n      <th>32772</th>\n      <td>99925</td>\n      <td>25840.0</td>\n      <td>42.0</td>\n      <td>45.1</td>\n      <td>0.082426</td>\n      <td>174500</td>\n      <td>0.000000</td>\n    </tr>\n    <tr>\n      <th>32773</th>\n      <td>99926</td>\n      <td>22453.0</td>\n      <td>34.6</td>\n      <td>34.3</td>\n      <td>0.065751</td>\n      <td>143100</td>\n      <td>0.011472</td>\n    </tr>\n    <tr>\n      <th>32774</th>\n      <td>99927</td>\n      <td>13658.0</td>\n      <td>-666666666.0</td>\n      <td>-666666666.0</td>\n      <td>0.263158</td>\n      <td>272500</td>\n      <td>0.000000</td>\n    </tr>\n    <tr>\n      <th>32775</th>\n      <td>99929</td>\n      <td>31489.0</td>\n      <td>51.6</td>\n      <td>48.3</td>\n      <td>0.140267</td>\n      <td>212600</td>\n      <td>0.006635</td>\n    </tr>\n  </tbody>\n</table>\n<p>33120 rows × 7 columns</p>\n</div>"
     },
     "metadata": {},
     "execution_count": 22
    }
   ],
   "source": [
    "df_CEN_sort=df_CEN.sort_values(\"Zip Code\", ascending=True)\n",
    "df_CEN_sort\n",
    "df_rename = df_CEN_sort.rename(columns={'Zip Code': 'zipcode'})\n",
    "#df_CEN = df_rename.set_index(\"zipcode\")\n",
    "df_rename"
   ]
  },
  {
   "cell_type": "code",
   "execution_count": 23,
   "metadata": {},
   "outputs": [
    {
     "output_type": "execute_result",
     "data": {
      "text/plain": [
       "       zipcode RegionType StateName        City                        Metro  \\\n",
       "0          501        Zip        NY  Holtsville  New York-Newark-Jersey City   \n",
       "1          602        Zip        AL      Auburn               Auburn-Opelika   \n",
       "2          605        Zip        AL   Aguadilla                       Dothan   \n",
       "3          606        Zip        MO      Neosho                       Joplin   \n",
       "4          610        Zip        KY      Anasco                          NaN   \n",
       "...        ...        ...       ...         ...                          ...   \n",
       "30232    99827        Zip        AK      Haines                          NaN   \n",
       "30233    99833        Zip        AK  Petersburg                          NaN   \n",
       "30234    99835        Zip        AK       Sitka                          NaN   \n",
       "30235    99901        Zip        AK   Ketchikan                    Ketchikan   \n",
       "30236    99929        Zip        AK    Wrangell                          NaN   \n",
       "\n",
       "                      CountyName  AVERAGE  PRICE  1/31/2018  2/28/2018  \\\n",
       "0                 Suffolk County    128202.91670   124748.0   125336.0   \n",
       "1                     Lee County    114105.25000   112129.0   112848.0   \n",
       "2                 Houston County     78791.83333    75593.0    76089.0   \n",
       "3                  Newton County     59377.75000    57243.0    57585.0   \n",
       "4                    Pike County    108219.58330   107145.0   106734.0   \n",
       "...                          ...             ...        ...        ...   \n",
       "30232             Haines Borough    211487.00000   207805.0   207900.0   \n",
       "30233         Petersburg Borough    254642.91670   253935.0   255059.0   \n",
       "30234              Sitka Borough    402391.33330   407298.0   404430.0   \n",
       "30235  Ketchikan Gateway Borough    294448.83330   292527.0   292906.0   \n",
       "30236           Wrangell Borough    215225.58330   214193.0   214075.0   \n",
       "\n",
       "       3/31/2018  4/30/2018  5/31/2018  6/30/2018  7/31/2018  8/31/2018  \\\n",
       "0       126278.0   126801.0   126947.0   126449.0   127587.0     129211   \n",
       "1       113757.0   114042.0   114144.0   114101.0   114350.0     114344   \n",
       "2        76977.0    77262.0    77296.0    77990.0    78881.0      80303   \n",
       "3        58442.0    59490.0    59776.0    59712.0    59555.0      59933   \n",
       "4       108301.0   109484.0   110187.0   109931.0   109701.0     109060   \n",
       "...          ...        ...        ...        ...        ...        ...   \n",
       "30232   209804.0   211035.0   210392.0   210143.0   210841.0     212374   \n",
       "30233   255276.0   256161.0   256645.0   255629.0   254575.0     253168   \n",
       "30234   401848.0   401776.0   401763.0   401730.0   401644.0     402477   \n",
       "30235   293182.0   293505.0   293862.0   294677.0   295044.0     295148   \n",
       "30236   214176.0   214133.0   214261.0   214264.0   214661.0     215163   \n",
       "\n",
       "       9/30/2018  10/31/2018  11/30/2018  12/31/2018  \n",
       "0         131062      130967      131519      131530  \n",
       "1         114334      114470      115073      115671  \n",
       "2          80852       81376       81219       81664  \n",
       "3          60078       60010       60128       60581  \n",
       "4         107987      107024      106520      106561  \n",
       "...          ...         ...         ...         ...  \n",
       "30232     213942      214470      214271      214867  \n",
       "30233     252685      252995      254266      255321  \n",
       "30234     403016      401870      400742      400102  \n",
       "30235     295037      295172      295777      296549  \n",
       "30236     215850      216509      217267      218155  \n",
       "\n",
       "[30367 rows x 19 columns]"
      ],
      "text/html": "<div>\n<style scoped>\n    .dataframe tbody tr th:only-of-type {\n        vertical-align: middle;\n    }\n\n    .dataframe tbody tr th {\n        vertical-align: top;\n    }\n\n    .dataframe thead th {\n        text-align: right;\n    }\n</style>\n<table border=\"1\" class=\"dataframe\">\n  <thead>\n    <tr style=\"text-align: right;\">\n      <th></th>\n      <th>zipcode</th>\n      <th>RegionType</th>\n      <th>StateName</th>\n      <th>City</th>\n      <th>Metro</th>\n      <th>CountyName</th>\n      <th>AVERAGE  PRICE</th>\n      <th>1/31/2018</th>\n      <th>2/28/2018</th>\n      <th>3/31/2018</th>\n      <th>4/30/2018</th>\n      <th>5/31/2018</th>\n      <th>6/30/2018</th>\n      <th>7/31/2018</th>\n      <th>8/31/2018</th>\n      <th>9/30/2018</th>\n      <th>10/31/2018</th>\n      <th>11/30/2018</th>\n      <th>12/31/2018</th>\n    </tr>\n  </thead>\n  <tbody>\n    <tr>\n      <th>0</th>\n      <td>501</td>\n      <td>Zip</td>\n      <td>NY</td>\n      <td>Holtsville</td>\n      <td>New York-Newark-Jersey City</td>\n      <td>Suffolk County</td>\n      <td>128202.91670</td>\n      <td>124748.0</td>\n      <td>125336.0</td>\n      <td>126278.0</td>\n      <td>126801.0</td>\n      <td>126947.0</td>\n      <td>126449.0</td>\n      <td>127587.0</td>\n      <td>129211</td>\n      <td>131062</td>\n      <td>130967</td>\n      <td>131519</td>\n      <td>131530</td>\n    </tr>\n    <tr>\n      <th>1</th>\n      <td>602</td>\n      <td>Zip</td>\n      <td>AL</td>\n      <td>Auburn</td>\n      <td>Auburn-Opelika</td>\n      <td>Lee County</td>\n      <td>114105.25000</td>\n      <td>112129.0</td>\n      <td>112848.0</td>\n      <td>113757.0</td>\n      <td>114042.0</td>\n      <td>114144.0</td>\n      <td>114101.0</td>\n      <td>114350.0</td>\n      <td>114344</td>\n      <td>114334</td>\n      <td>114470</td>\n      <td>115073</td>\n      <td>115671</td>\n    </tr>\n    <tr>\n      <th>2</th>\n      <td>605</td>\n      <td>Zip</td>\n      <td>AL</td>\n      <td>Aguadilla</td>\n      <td>Dothan</td>\n      <td>Houston County</td>\n      <td>78791.83333</td>\n      <td>75593.0</td>\n      <td>76089.0</td>\n      <td>76977.0</td>\n      <td>77262.0</td>\n      <td>77296.0</td>\n      <td>77990.0</td>\n      <td>78881.0</td>\n      <td>80303</td>\n      <td>80852</td>\n      <td>81376</td>\n      <td>81219</td>\n      <td>81664</td>\n    </tr>\n    <tr>\n      <th>3</th>\n      <td>606</td>\n      <td>Zip</td>\n      <td>MO</td>\n      <td>Neosho</td>\n      <td>Joplin</td>\n      <td>Newton County</td>\n      <td>59377.75000</td>\n      <td>57243.0</td>\n      <td>57585.0</td>\n      <td>58442.0</td>\n      <td>59490.0</td>\n      <td>59776.0</td>\n      <td>59712.0</td>\n      <td>59555.0</td>\n      <td>59933</td>\n      <td>60078</td>\n      <td>60010</td>\n      <td>60128</td>\n      <td>60581</td>\n    </tr>\n    <tr>\n      <th>4</th>\n      <td>610</td>\n      <td>Zip</td>\n      <td>KY</td>\n      <td>Anasco</td>\n      <td>NaN</td>\n      <td>Pike County</td>\n      <td>108219.58330</td>\n      <td>107145.0</td>\n      <td>106734.0</td>\n      <td>108301.0</td>\n      <td>109484.0</td>\n      <td>110187.0</td>\n      <td>109931.0</td>\n      <td>109701.0</td>\n      <td>109060</td>\n      <td>107987</td>\n      <td>107024</td>\n      <td>106520</td>\n      <td>106561</td>\n    </tr>\n    <tr>\n      <th>...</th>\n      <td>...</td>\n      <td>...</td>\n      <td>...</td>\n      <td>...</td>\n      <td>...</td>\n      <td>...</td>\n      <td>...</td>\n      <td>...</td>\n      <td>...</td>\n      <td>...</td>\n      <td>...</td>\n      <td>...</td>\n      <td>...</td>\n      <td>...</td>\n      <td>...</td>\n      <td>...</td>\n      <td>...</td>\n      <td>...</td>\n      <td>...</td>\n    </tr>\n    <tr>\n      <th>30232</th>\n      <td>99827</td>\n      <td>Zip</td>\n      <td>AK</td>\n      <td>Haines</td>\n      <td>NaN</td>\n      <td>Haines Borough</td>\n      <td>211487.00000</td>\n      <td>207805.0</td>\n      <td>207900.0</td>\n      <td>209804.0</td>\n      <td>211035.0</td>\n      <td>210392.0</td>\n      <td>210143.0</td>\n      <td>210841.0</td>\n      <td>212374</td>\n      <td>213942</td>\n      <td>214470</td>\n      <td>214271</td>\n      <td>214867</td>\n    </tr>\n    <tr>\n      <th>30233</th>\n      <td>99833</td>\n      <td>Zip</td>\n      <td>AK</td>\n      <td>Petersburg</td>\n      <td>NaN</td>\n      <td>Petersburg Borough</td>\n      <td>254642.91670</td>\n      <td>253935.0</td>\n      <td>255059.0</td>\n      <td>255276.0</td>\n      <td>256161.0</td>\n      <td>256645.0</td>\n      <td>255629.0</td>\n      <td>254575.0</td>\n      <td>253168</td>\n      <td>252685</td>\n      <td>252995</td>\n      <td>254266</td>\n      <td>255321</td>\n    </tr>\n    <tr>\n      <th>30234</th>\n      <td>99835</td>\n      <td>Zip</td>\n      <td>AK</td>\n      <td>Sitka</td>\n      <td>NaN</td>\n      <td>Sitka Borough</td>\n      <td>402391.33330</td>\n      <td>407298.0</td>\n      <td>404430.0</td>\n      <td>401848.0</td>\n      <td>401776.0</td>\n      <td>401763.0</td>\n      <td>401730.0</td>\n      <td>401644.0</td>\n      <td>402477</td>\n      <td>403016</td>\n      <td>401870</td>\n      <td>400742</td>\n      <td>400102</td>\n    </tr>\n    <tr>\n      <th>30235</th>\n      <td>99901</td>\n      <td>Zip</td>\n      <td>AK</td>\n      <td>Ketchikan</td>\n      <td>Ketchikan</td>\n      <td>Ketchikan Gateway Borough</td>\n      <td>294448.83330</td>\n      <td>292527.0</td>\n      <td>292906.0</td>\n      <td>293182.0</td>\n      <td>293505.0</td>\n      <td>293862.0</td>\n      <td>294677.0</td>\n      <td>295044.0</td>\n      <td>295148</td>\n      <td>295037</td>\n      <td>295172</td>\n      <td>295777</td>\n      <td>296549</td>\n    </tr>\n    <tr>\n      <th>30236</th>\n      <td>99929</td>\n      <td>Zip</td>\n      <td>AK</td>\n      <td>Wrangell</td>\n      <td>NaN</td>\n      <td>Wrangell Borough</td>\n      <td>215225.58330</td>\n      <td>214193.0</td>\n      <td>214075.0</td>\n      <td>214176.0</td>\n      <td>214133.0</td>\n      <td>214261.0</td>\n      <td>214264.0</td>\n      <td>214661.0</td>\n      <td>215163</td>\n      <td>215850</td>\n      <td>216509</td>\n      <td>217267</td>\n      <td>218155</td>\n    </tr>\n  </tbody>\n</table>\n<p>30367 rows × 19 columns</p>\n</div>"
     },
     "metadata": {},
     "execution_count": 23
    }
   ],
   "source": [
    "df_RE_sort=df_RE.sort_values(\"RegionName\", ascending=True)\n",
    "df_RE_sort\n",
    "df_rename1 = df_RE_sort.rename(columns={'RegionName': 'zipcode'})\n",
    "#df_RE = df_rename1.set_index(\"zipcode\")\n",
    "df_rename1"
   ]
  },
  {
   "cell_type": "raw",
   "metadata": {},
   "source": []
  },
  {
   "cell_type": "code",
   "execution_count": 25,
   "metadata": {},
   "outputs": [
    {
     "output_type": "execute_result",
     "data": {
      "text/plain": [
       "       zipcode  Income per capita  Median Age Male  Median Age Male.1  \\\n",
       "0          602             9277.0             41.9               42.8   \n",
       "1          606             5943.0             43.2               43.4   \n",
       "2          610            10220.0             40.4               44.2   \n",
       "3          617             9122.0             39.2               41.0   \n",
       "4          693            10536.0             39.2               41.9   \n",
       "...        ...                ...              ...                ...   \n",
       "29733    99827            33387.0             45.2               45.8   \n",
       "29734    99833            33227.0             39.3               42.7   \n",
       "29735    99835            38423.0             37.2               40.5   \n",
       "29736    99901            34886.0             39.4               39.9   \n",
       "29737    99929            31489.0             51.6               48.3   \n",
       "\n",
       "       Bachelor's degree > 25  Median Home Value  Public transportation  \\\n",
       "0                    0.134690              86300               0.002796   \n",
       "1                    0.068866              91600               0.000000   \n",
       "2                    0.130349              88600               0.002741   \n",
       "3                    0.157224             106100               0.005154   \n",
       "4                    0.148064             107300               0.006750   \n",
       "...                       ...                ...                    ...   \n",
       "29733                0.229525             256200               0.002308   \n",
       "29734                0.219672             213100               0.009211   \n",
       "29735                0.204494             349300               0.010178   \n",
       "29736                0.170142             272300               0.035648   \n",
       "29737                0.140267             212600               0.006635   \n",
       "\n",
       "      RegionType StateName        City  ... 3/31/2018 4/30/2018  5/31/2018  \\\n",
       "0            Zip        AL      Auburn  ...  113757.0  114042.0   114144.0   \n",
       "1            Zip        MO      Neosho  ...   58442.0   59490.0    59776.0   \n",
       "2            Zip        KY      Anasco  ...  108301.0  109484.0   110187.0   \n",
       "3            Zip        AL      Imbery  ...  100276.0  100878.0   100607.0   \n",
       "4            Zip        PA  Greensburg  ...  332237.0  329352.0   321737.0   \n",
       "...          ...       ...         ...  ...       ...       ...        ...   \n",
       "29733        Zip        AK      Haines  ...  209804.0  211035.0   210392.0   \n",
       "29734        Zip        AK  Petersburg  ...  255276.0  256161.0   256645.0   \n",
       "29735        Zip        AK       Sitka  ...  401848.0  401776.0   401763.0   \n",
       "29736        Zip        AK   Ketchikan  ...  293182.0  293505.0   293862.0   \n",
       "29737        Zip        AK    Wrangell  ...  214176.0  214133.0   214261.0   \n",
       "\n",
       "       6/30/2018  7/31/2018  8/31/2018  9/30/2018  10/31/2018  11/30/2018  \\\n",
       "0       114101.0   114350.0     114344     114334      114470      115073   \n",
       "1        59712.0    59555.0      59933      60078       60010       60128   \n",
       "2       109931.0   109701.0     109060     107987      107024      106520   \n",
       "3       100216.0    99808.0     100222     101195      102075      103022   \n",
       "4       321298.0   322079.0     328332     332690      334721      335866   \n",
       "...          ...        ...        ...        ...         ...         ...   \n",
       "29733   210143.0   210841.0     212374     213942      214470      214271   \n",
       "29734   255629.0   254575.0     253168     252685      252995      254266   \n",
       "29735   401730.0   401644.0     402477     403016      401870      400742   \n",
       "29736   294677.0   295044.0     295148     295037      295172      295777   \n",
       "29737   214264.0   214661.0     215163     215850      216509      217267   \n",
       "\n",
       "       12/31/2018  \n",
       "0          115671  \n",
       "1           60581  \n",
       "2          106561  \n",
       "3          103998  \n",
       "4          338157  \n",
       "...           ...  \n",
       "29733      214867  \n",
       "29734      255321  \n",
       "29735      400102  \n",
       "29736      296549  \n",
       "29737      218155  \n",
       "\n",
       "[29738 rows x 25 columns]"
      ],
      "text/html": "<div>\n<style scoped>\n    .dataframe tbody tr th:only-of-type {\n        vertical-align: middle;\n    }\n\n    .dataframe tbody tr th {\n        vertical-align: top;\n    }\n\n    .dataframe thead th {\n        text-align: right;\n    }\n</style>\n<table border=\"1\" class=\"dataframe\">\n  <thead>\n    <tr style=\"text-align: right;\">\n      <th></th>\n      <th>zipcode</th>\n      <th>Income per capita</th>\n      <th>Median Age Male</th>\n      <th>Median Age Male.1</th>\n      <th>Bachelor's degree &gt; 25</th>\n      <th>Median Home Value</th>\n      <th>Public transportation</th>\n      <th>RegionType</th>\n      <th>StateName</th>\n      <th>City</th>\n      <th>...</th>\n      <th>3/31/2018</th>\n      <th>4/30/2018</th>\n      <th>5/31/2018</th>\n      <th>6/30/2018</th>\n      <th>7/31/2018</th>\n      <th>8/31/2018</th>\n      <th>9/30/2018</th>\n      <th>10/31/2018</th>\n      <th>11/30/2018</th>\n      <th>12/31/2018</th>\n    </tr>\n  </thead>\n  <tbody>\n    <tr>\n      <th>0</th>\n      <td>602</td>\n      <td>9277.0</td>\n      <td>41.9</td>\n      <td>42.8</td>\n      <td>0.134690</td>\n      <td>86300</td>\n      <td>0.002796</td>\n      <td>Zip</td>\n      <td>AL</td>\n      <td>Auburn</td>\n      <td>...</td>\n      <td>113757.0</td>\n      <td>114042.0</td>\n      <td>114144.0</td>\n      <td>114101.0</td>\n      <td>114350.0</td>\n      <td>114344</td>\n      <td>114334</td>\n      <td>114470</td>\n      <td>115073</td>\n      <td>115671</td>\n    </tr>\n    <tr>\n      <th>1</th>\n      <td>606</td>\n      <td>5943.0</td>\n      <td>43.2</td>\n      <td>43.4</td>\n      <td>0.068866</td>\n      <td>91600</td>\n      <td>0.000000</td>\n      <td>Zip</td>\n      <td>MO</td>\n      <td>Neosho</td>\n      <td>...</td>\n      <td>58442.0</td>\n      <td>59490.0</td>\n      <td>59776.0</td>\n      <td>59712.0</td>\n      <td>59555.0</td>\n      <td>59933</td>\n      <td>60078</td>\n      <td>60010</td>\n      <td>60128</td>\n      <td>60581</td>\n    </tr>\n    <tr>\n      <th>2</th>\n      <td>610</td>\n      <td>10220.0</td>\n      <td>40.4</td>\n      <td>44.2</td>\n      <td>0.130349</td>\n      <td>88600</td>\n      <td>0.002741</td>\n      <td>Zip</td>\n      <td>KY</td>\n      <td>Anasco</td>\n      <td>...</td>\n      <td>108301.0</td>\n      <td>109484.0</td>\n      <td>110187.0</td>\n      <td>109931.0</td>\n      <td>109701.0</td>\n      <td>109060</td>\n      <td>107987</td>\n      <td>107024</td>\n      <td>106520</td>\n      <td>106561</td>\n    </tr>\n    <tr>\n      <th>3</th>\n      <td>617</td>\n      <td>9122.0</td>\n      <td>39.2</td>\n      <td>41.0</td>\n      <td>0.157224</td>\n      <td>106100</td>\n      <td>0.005154</td>\n      <td>Zip</td>\n      <td>AL</td>\n      <td>Imbery</td>\n      <td>...</td>\n      <td>100276.0</td>\n      <td>100878.0</td>\n      <td>100607.0</td>\n      <td>100216.0</td>\n      <td>99808.0</td>\n      <td>100222</td>\n      <td>101195</td>\n      <td>102075</td>\n      <td>103022</td>\n      <td>103998</td>\n    </tr>\n    <tr>\n      <th>4</th>\n      <td>693</td>\n      <td>10536.0</td>\n      <td>39.2</td>\n      <td>41.9</td>\n      <td>0.148064</td>\n      <td>107300</td>\n      <td>0.006750</td>\n      <td>Zip</td>\n      <td>PA</td>\n      <td>Greensburg</td>\n      <td>...</td>\n      <td>332237.0</td>\n      <td>329352.0</td>\n      <td>321737.0</td>\n      <td>321298.0</td>\n      <td>322079.0</td>\n      <td>328332</td>\n      <td>332690</td>\n      <td>334721</td>\n      <td>335866</td>\n      <td>338157</td>\n    </tr>\n    <tr>\n      <th>...</th>\n      <td>...</td>\n      <td>...</td>\n      <td>...</td>\n      <td>...</td>\n      <td>...</td>\n      <td>...</td>\n      <td>...</td>\n      <td>...</td>\n      <td>...</td>\n      <td>...</td>\n      <td>...</td>\n      <td>...</td>\n      <td>...</td>\n      <td>...</td>\n      <td>...</td>\n      <td>...</td>\n      <td>...</td>\n      <td>...</td>\n      <td>...</td>\n      <td>...</td>\n      <td>...</td>\n    </tr>\n    <tr>\n      <th>29733</th>\n      <td>99827</td>\n      <td>33387.0</td>\n      <td>45.2</td>\n      <td>45.8</td>\n      <td>0.229525</td>\n      <td>256200</td>\n      <td>0.002308</td>\n      <td>Zip</td>\n      <td>AK</td>\n      <td>Haines</td>\n      <td>...</td>\n      <td>209804.0</td>\n      <td>211035.0</td>\n      <td>210392.0</td>\n      <td>210143.0</td>\n      <td>210841.0</td>\n      <td>212374</td>\n      <td>213942</td>\n      <td>214470</td>\n      <td>214271</td>\n      <td>214867</td>\n    </tr>\n    <tr>\n      <th>29734</th>\n      <td>99833</td>\n      <td>33227.0</td>\n      <td>39.3</td>\n      <td>42.7</td>\n      <td>0.219672</td>\n      <td>213100</td>\n      <td>0.009211</td>\n      <td>Zip</td>\n      <td>AK</td>\n      <td>Petersburg</td>\n      <td>...</td>\n      <td>255276.0</td>\n      <td>256161.0</td>\n      <td>256645.0</td>\n      <td>255629.0</td>\n      <td>254575.0</td>\n      <td>253168</td>\n      <td>252685</td>\n      <td>252995</td>\n      <td>254266</td>\n      <td>255321</td>\n    </tr>\n    <tr>\n      <th>29735</th>\n      <td>99835</td>\n      <td>38423.0</td>\n      <td>37.2</td>\n      <td>40.5</td>\n      <td>0.204494</td>\n      <td>349300</td>\n      <td>0.010178</td>\n      <td>Zip</td>\n      <td>AK</td>\n      <td>Sitka</td>\n      <td>...</td>\n      <td>401848.0</td>\n      <td>401776.0</td>\n      <td>401763.0</td>\n      <td>401730.0</td>\n      <td>401644.0</td>\n      <td>402477</td>\n      <td>403016</td>\n      <td>401870</td>\n      <td>400742</td>\n      <td>400102</td>\n    </tr>\n    <tr>\n      <th>29736</th>\n      <td>99901</td>\n      <td>34886.0</td>\n      <td>39.4</td>\n      <td>39.9</td>\n      <td>0.170142</td>\n      <td>272300</td>\n      <td>0.035648</td>\n      <td>Zip</td>\n      <td>AK</td>\n      <td>Ketchikan</td>\n      <td>...</td>\n      <td>293182.0</td>\n      <td>293505.0</td>\n      <td>293862.0</td>\n      <td>294677.0</td>\n      <td>295044.0</td>\n      <td>295148</td>\n      <td>295037</td>\n      <td>295172</td>\n      <td>295777</td>\n      <td>296549</td>\n    </tr>\n    <tr>\n      <th>29737</th>\n      <td>99929</td>\n      <td>31489.0</td>\n      <td>51.6</td>\n      <td>48.3</td>\n      <td>0.140267</td>\n      <td>212600</td>\n      <td>0.006635</td>\n      <td>Zip</td>\n      <td>AK</td>\n      <td>Wrangell</td>\n      <td>...</td>\n      <td>214176.0</td>\n      <td>214133.0</td>\n      <td>214261.0</td>\n      <td>214264.0</td>\n      <td>214661.0</td>\n      <td>215163</td>\n      <td>215850</td>\n      <td>216509</td>\n      <td>217267</td>\n      <td>218155</td>\n    </tr>\n  </tbody>\n</table>\n<p>29738 rows × 25 columns</p>\n</div>"
     },
     "metadata": {},
     "execution_count": 25
    }
   ],
   "source": [
    "#Merge\n",
    "df_rename"
   ]
  },
  {
   "cell_type": "code",
   "execution_count": 27,
   "metadata": {},
   "outputs": [],
   "source": [
    "df.to_csv('Merge_Master.csv')\n"
   ]
  },
  {
   "cell_type": "code",
   "execution_count": 28,
   "metadata": {},
   "outputs": [
    {
     "output_type": "execute_result",
     "data": {
      "text/plain": [
       "['zipcode',\n",
       " 'Income per capita',\n",
       " 'Median Age Male',\n",
       " 'Median Age Male.1',\n",
       " \"Bachelor's degree > 25\",\n",
       " 'Median Home Value',\n",
       " 'Public transportation',\n",
       " 'RegionType',\n",
       " 'StateName',\n",
       " 'City',\n",
       " 'Metro',\n",
       " 'CountyName',\n",
       " 'AVERAGE  PRICE',\n",
       " '1/31/2018',\n",
       " '2/28/2018',\n",
       " '3/31/2018',\n",
       " '4/30/2018',\n",
       " '5/31/2018',\n",
       " '6/30/2018',\n",
       " '7/31/2018',\n",
       " '8/31/2018',\n",
       " '9/30/2018',\n",
       " '10/31/2018',\n",
       " '11/30/2018',\n",
       " '12/31/2018']"
      ]
     },
     "metadata": {},
     "execution_count": 28
    }
   ],
   "source": [
    "list(df.columns)"
   ]
  },
  {
   "cell_type": "code",
   "execution_count": null,
   "metadata": {},
   "outputs": [],
   "source": [
    "#Change key Column to one label\n",
    "#set index on that label\n",
    "#pd.merge(df,df).to_file(\"master.geojson\", driver='GeoJSON')"
   ]
  }
 ],
 "metadata": {
  "anaconda-cloud": {},
  "kernelspec": {
   "display_name": "Python 3",
   "language": "python",
   "name": "python3"
  },
  "language_info": {
   "codemirror_mode": {
    "name": "ipython",
    "version": 3
   },
   "file_extension": ".py",
   "mimetype": "text/x-python",
   "name": "python",
   "nbconvert_exporter": "python",
   "pygments_lexer": "ipython3",
   "version": "3.8.3-final"
  }
 },
 "nbformat": 4,
 "nbformat_minor": 2
}